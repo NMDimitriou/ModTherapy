{
 "cells": [
  {
   "cell_type": "code",
   "execution_count": 107,
   "metadata": {},
   "outputs": [
    {
     "name": "stdout",
     "output_type": "stream",
     "text": [
      "path = \"../Data/calibration_C33A_control_R1_werr.txt\"\n"
     ]
    },
    {
     "ename": "LoadError",
     "evalue": "MethodError: no method matching similar(::Float64, ::Type{Float64})\n\u001b[0mClosest candidates are:\n\u001b[0m  similar(\u001b[91m::Union{LinearAlgebra.Adjoint{T, var\"#s832\"}, LinearAlgebra.Transpose{T, var\"#s832\"}} where {T, var\"#s832\"<:(AbstractVector{T} where T)}\u001b[39m, ::Type{T}) where T at /buildworker/worker/package_linux64/build/usr/share/julia/stdlib/v1.6/LinearAlgebra/src/adjtrans.jl:230\n\u001b[0m  similar(\u001b[91m::Union{LinearAlgebra.Adjoint{T, S}, LinearAlgebra.Transpose{T, S}} where {T, S}\u001b[39m, ::Type{T}) where T at /buildworker/worker/package_linux64/build/usr/share/julia/stdlib/v1.6/LinearAlgebra/src/adjtrans.jl:234\n\u001b[0m  similar(\u001b[91m::Union{LinearAlgebra.Adjoint{T, S}, LinearAlgebra.Transpose{T, S}} where {T, S}\u001b[39m, ::Type{T}, \u001b[91m::Tuple{Vararg{Int64, N}}\u001b[39m) where {T, N} at /buildworker/worker/package_linux64/build/usr/share/julia/stdlib/v1.6/LinearAlgebra/src/adjtrans.jl:235\n\u001b[0m  ...",
     "output_type": "error",
     "traceback": [
      "MethodError: no method matching similar(::Float64, ::Type{Float64})\n\u001b[0mClosest candidates are:\n\u001b[0m  similar(\u001b[91m::Union{LinearAlgebra.Adjoint{T, var\"#s832\"}, LinearAlgebra.Transpose{T, var\"#s832\"}} where {T, var\"#s832\"<:(AbstractVector{T} where T)}\u001b[39m, ::Type{T}) where T at /buildworker/worker/package_linux64/build/usr/share/julia/stdlib/v1.6/LinearAlgebra/src/adjtrans.jl:230\n\u001b[0m  similar(\u001b[91m::Union{LinearAlgebra.Adjoint{T, S}, LinearAlgebra.Transpose{T, S}} where {T, S}\u001b[39m, ::Type{T}) where T at /buildworker/worker/package_linux64/build/usr/share/julia/stdlib/v1.6/LinearAlgebra/src/adjtrans.jl:234\n\u001b[0m  similar(\u001b[91m::Union{LinearAlgebra.Adjoint{T, S}, LinearAlgebra.Transpose{T, S}} where {T, S}\u001b[39m, ::Type{T}, \u001b[91m::Tuple{Vararg{Int64, N}}\u001b[39m) where {T, N} at /buildworker/worker/package_linux64/build/usr/share/julia/stdlib/v1.6/LinearAlgebra/src/adjtrans.jl:235\n\u001b[0m  ...",
      "",
      "Stacktrace:",
      " [1] alg_cache(alg::Tsit5, u::Float64, rate_prototype::Float64, #unused#::Type{Float64}, #unused#::Type{Float64}, #unused#::Type{Float64}, uprev::Float64, uprev2::Float64, f::ODEFunction{true, typeof(ode00!), LinearAlgebra.UniformScaling{Bool}, Nothing, Nothing, Nothing, Nothing, Nothing, Nothing, Nothing, Nothing, Nothing, Nothing, Nothing, Nothing, typeof(SciMLBase.DEFAULT_OBSERVED), Nothing}, t::Float64, dt::Float64, reltol::Float64, p::Vector{Float64}, calck::Bool, #unused#::Val{true})",
      "   @ OrdinaryDiffEq ~/.julia/packages/OrdinaryDiffEq/PIjOZ/src/caches/low_order_rk_caches.jl:357",
      " [2] __init(prob::ODEProblem{Float64, Tuple{Float64, Float64}, true, Vector{Float64}, ODEFunction{true, typeof(ode00!), LinearAlgebra.UniformScaling{Bool}, Nothing, Nothing, Nothing, Nothing, Nothing, Nothing, Nothing, Nothing, Nothing, Nothing, Nothing, Nothing, typeof(SciMLBase.DEFAULT_OBSERVED), Nothing}, Base.Iterators.Pairs{Union{}, Union{}, Tuple{}, NamedTuple{(), Tuple{}}}, SciMLBase.StandardODEProblem}, alg::Tsit5, timeseries_init::Tuple{}, ts_init::Tuple{}, ks_init::Tuple{}, recompile::Type{Val{true}}; saveat::Float64, tstops::Tuple{}, d_discontinuities::Tuple{}, save_idxs::Nothing, save_everystep::Bool, save_on::Bool, save_start::Bool, save_end::Nothing, callback::Nothing, dense::Bool, calck::Bool, dt::Float64, dtmin::Nothing, dtmax::Float64, force_dtmin::Bool, adaptive::Bool, gamma::Rational{Int64}, abstol::Nothing, reltol::Nothing, qmin::Rational{Int64}, qmax::Int64, qsteady_min::Int64, qsteady_max::Int64, beta1::Nothing, beta2::Nothing, qoldinit::Rational{Int64}, controller::Nothing, fullnormalize::Bool, failfactor::Int64, maxiters::Int64, internalnorm::typeof(DiffEqBase.ODE_DEFAULT_NORM), internalopnorm::typeof(LinearAlgebra.opnorm), isoutofdomain::typeof(DiffEqBase.ODE_DEFAULT_ISOUTOFDOMAIN), unstable_check::typeof(DiffEqBase.ODE_DEFAULT_UNSTABLE_CHECK), verbose::Bool, timeseries_errors::Bool, dense_errors::Bool, advance_to_tstop::Bool, stop_at_next_tstop::Bool, initialize_save::Bool, progress::Bool, progress_steps::Int64, progress_name::String, progress_message::typeof(DiffEqBase.ODE_DEFAULT_PROG_MESSAGE), userdata::Nothing, allow_extrapolation::Bool, initialize_integrator::Bool, alias_u0::Bool, alias_du0::Bool, initializealg::OrdinaryDiffEq.DefaultInit, kwargs::Base.Iterators.Pairs{Union{}, Union{}, Tuple{}, NamedTuple{(), Tuple{}}})",
      "   @ OrdinaryDiffEq ~/.julia/packages/OrdinaryDiffEq/PIjOZ/src/solve.jl:295",
      " [3] __solve(::ODEProblem{Float64, Tuple{Float64, Float64}, true, Vector{Float64}, ODEFunction{true, typeof(ode00!), LinearAlgebra.UniformScaling{Bool}, Nothing, Nothing, Nothing, Nothing, Nothing, Nothing, Nothing, Nothing, Nothing, Nothing, Nothing, Nothing, typeof(SciMLBase.DEFAULT_OBSERVED), Nothing}, Base.Iterators.Pairs{Union{}, Union{}, Tuple{}, NamedTuple{(), Tuple{}}}, SciMLBase.StandardODEProblem}, ::Tsit5; kwargs::Base.Iterators.Pairs{Symbol, Float64, Tuple{Symbol}, NamedTuple{(:saveat,), Tuple{Float64}}})",
      "   @ OrdinaryDiffEq ~/.julia/packages/OrdinaryDiffEq/PIjOZ/src/solve.jl:4",
      " [4] solve_call(_prob::ODEProblem{Float64, Tuple{Float64, Float64}, true, Vector{Float64}, ODEFunction{true, typeof(ode00!), LinearAlgebra.UniformScaling{Bool}, Nothing, Nothing, Nothing, Nothing, Nothing, Nothing, Nothing, Nothing, Nothing, Nothing, Nothing, Nothing, typeof(SciMLBase.DEFAULT_OBSERVED), Nothing}, Base.Iterators.Pairs{Union{}, Union{}, Tuple{}, NamedTuple{(), Tuple{}}}, SciMLBase.StandardODEProblem}, args::Tsit5; merge_callbacks::Bool, kwargs::Base.Iterators.Pairs{Symbol, Float64, Tuple{Symbol}, NamedTuple{(:saveat,), Tuple{Float64}}})",
      "   @ DiffEqBase ~/.julia/packages/DiffEqBase/niZxn/src/solve.jl:61",
      " [5] solve_up(prob::ODEProblem{Float64, Tuple{Float64, Float64}, true, Vector{Float64}, ODEFunction{true, typeof(ode00!), LinearAlgebra.UniformScaling{Bool}, Nothing, Nothing, Nothing, Nothing, Nothing, Nothing, Nothing, Nothing, Nothing, Nothing, Nothing, Nothing, typeof(SciMLBase.DEFAULT_OBSERVED), Nothing}, Base.Iterators.Pairs{Union{}, Union{}, Tuple{}, NamedTuple{(), Tuple{}}}, SciMLBase.StandardODEProblem}, sensealg::Nothing, u0::Float64, p::Vector{Float64}, args::Tsit5; kwargs::Base.Iterators.Pairs{Symbol, Float64, Tuple{Symbol}, NamedTuple{(:saveat,), Tuple{Float64}}})",
      "   @ DiffEqBase ~/.julia/packages/DiffEqBase/niZxn/src/solve.jl:85",
      " [6] solve(prob::ODEProblem{Float64, Tuple{Float64, Float64}, true, Vector{Float64}, ODEFunction{true, typeof(ode00!), LinearAlgebra.UniformScaling{Bool}, Nothing, Nothing, Nothing, Nothing, Nothing, Nothing, Nothing, Nothing, Nothing, Nothing, Nothing, Nothing, typeof(SciMLBase.DEFAULT_OBSERVED), Nothing}, Base.Iterators.Pairs{Union{}, Union{}, Tuple{}, NamedTuple{(), Tuple{}}}, SciMLBase.StandardODEProblem}, args::Tsit5; sensealg::Nothing, u0::Nothing, p::Nothing, kwargs::Base.Iterators.Pairs{Symbol, Float64, Tuple{Symbol}, NamedTuple{(:saveat,), Tuple{Float64}}})",
      "   @ DiffEqBase ~/.julia/packages/DiffEqBase/niZxn/src/solve.jl:73",
      " [7] top-level scope",
      "   @ In[107]:21",
      " [8] eval",
      "   @ ./boot.jl:360 [inlined]",
      " [9] include_string(mapexpr::typeof(REPL.softscope), mod::Module, code::String, filename::String)",
      "   @ Base ./loading.jl:1116"
     ]
    }
   ],
   "source": [
    "include(\"models.jl\")\n",
    "include(\"load_data.jl\")\n",
    "\n",
    "edat = load_data(\"../Data/calibration_C33A_control_R1_werr.txt\");\n",
    "\n",
    "ided = Array(edat[2:end,1]);\n",
    "eded = Array(edat[2:end,2]);\n",
    "σ    = Array(edat[2:end,3]); \n",
    "\n",
    "δt = 1.0;\n",
    "tmax = 75.0;\n",
    "tspan = (0.0,tmax);\n",
    "obstimes = 0.0:δt:tmax;\n",
    "\n",
    "# For model 00\n",
    "#u0 = [5e4, 0.0];\n",
    "u0=5e4;\n",
    "p  = [0.05, 4e5]; #r_γ, K\n",
    "\n",
    "prob_ode00 = ODEProblem(ode00,u0,tspan,p);\n",
    "sol_ode00  = solve(prob_ode00,Tsit5(),saveat=δt);\n",
    "\n",
    "out00 = Array(sol_ode00(ided))\n",
    "C00   = out00"
   ]
  },
  {
   "cell_type": "code",
   "execution_count": 102,
   "metadata": {},
   "outputs": [],
   "source": [
    "function nll2(x)\n",
    "    (rᵧ, K) = x\n",
    "    prob = remake(prob_ode00,u0,p=[rᵧ,K])\n",
    "    sol  = solve(prob,Tsit5(),saveat=δt)\n",
    "    out  = Array(sol(ided))\n",
    "    cout = out #[1,:]\n",
    "\n",
    "    SSN=sum((cout .- eded) .^2 ./ σ.^2 );\n",
    "    neg_logL = 0.5*sum(log(2*π) .+ log.(σ .^2)) + 0.5*SSN;\n",
    "    \n",
    "    return(neg_logL)\n",
    "end;"
   ]
  },
  {
   "cell_type": "code",
   "execution_count": 103,
   "metadata": {},
   "outputs": [],
   "source": [
    "lower2 = [0.0 ,3e5  ];\n",
    "upper2 = [0.15,4.6e5];\n",
    "\n",
    "initial_x2 = [0.06,3.8e5];"
   ]
  },
  {
   "cell_type": "code",
   "execution_count": 104,
   "metadata": {
    "scrolled": true
   },
   "outputs": [
    {
     "ename": "LoadError",
     "evalue": "MethodError: no method matching remake(::ODEProblem{Float64, Tuple{Float64, Float64}, false, Vector{Float64}, ODEFunction{false, typeof(ode00), LinearAlgebra.UniformScaling{Bool}, Nothing, Nothing, Nothing, Nothing, Nothing, Nothing, Nothing, Nothing, Nothing, Nothing, Nothing, Nothing, typeof(SciMLBase.DEFAULT_OBSERVED), Nothing}, Base.Iterators.Pairs{Union{}, Union{}, Tuple{}, NamedTuple{(), Tuple{}}}, SciMLBase.StandardODEProblem}, ::Float64; p=[0.06000605545445239, 380000.0])\n\u001b[0mClosest candidates are:\n\u001b[0m  remake(\u001b[91m::OrdinaryDiffEq.OrdinaryDiffEqImplicitAlgorithm{CS, AD, FDT}\u001b[39m, ::Any...) where {CS, AD, FDT} at /home/nikos/.julia/packages/OrdinaryDiffEq/PIjOZ/src/algorithms.jl:37\u001b[91m got unsupported keyword argument \"p\"\u001b[39m\n\u001b[0m  remake(\u001b[91m::OrdinaryDiffEq.OrdinaryDiffEqAdaptiveImplicitAlgorithm{CS, AD, FDT}\u001b[39m, ::Any...) where {CS, AD, FDT} at /home/nikos/.julia/packages/OrdinaryDiffEq/PIjOZ/src/algorithms.jl:32\u001b[91m got unsupported keyword argument \"p\"\u001b[39m\n\u001b[0m  remake(\u001b[91m::OrdinaryDiffEqAlgorithm\u001b[39m, ::Any...) at /home/nikos/.julia/packages/OrdinaryDiffEq/PIjOZ/src/algorithms.jl:27\u001b[91m got unsupported keyword argument \"p\"\u001b[39m\n\u001b[0m  ...",
     "output_type": "error",
     "traceback": [
      "MethodError: no method matching remake(::ODEProblem{Float64, Tuple{Float64, Float64}, false, Vector{Float64}, ODEFunction{false, typeof(ode00), LinearAlgebra.UniformScaling{Bool}, Nothing, Nothing, Nothing, Nothing, Nothing, Nothing, Nothing, Nothing, Nothing, Nothing, Nothing, Nothing, typeof(SciMLBase.DEFAULT_OBSERVED), Nothing}, Base.Iterators.Pairs{Union{}, Union{}, Tuple{}, NamedTuple{(), Tuple{}}}, SciMLBase.StandardODEProblem}, ::Float64; p=[0.06000605545445239, 380000.0])\n\u001b[0mClosest candidates are:\n\u001b[0m  remake(\u001b[91m::OrdinaryDiffEq.OrdinaryDiffEqImplicitAlgorithm{CS, AD, FDT}\u001b[39m, ::Any...) where {CS, AD, FDT} at /home/nikos/.julia/packages/OrdinaryDiffEq/PIjOZ/src/algorithms.jl:37\u001b[91m got unsupported keyword argument \"p\"\u001b[39m\n\u001b[0m  remake(\u001b[91m::OrdinaryDiffEq.OrdinaryDiffEqAdaptiveImplicitAlgorithm{CS, AD, FDT}\u001b[39m, ::Any...) where {CS, AD, FDT} at /home/nikos/.julia/packages/OrdinaryDiffEq/PIjOZ/src/algorithms.jl:32\u001b[91m got unsupported keyword argument \"p\"\u001b[39m\n\u001b[0m  remake(\u001b[91m::OrdinaryDiffEqAlgorithm\u001b[39m, ::Any...) at /home/nikos/.julia/packages/OrdinaryDiffEq/PIjOZ/src/algorithms.jl:27\u001b[91m got unsupported keyword argument \"p\"\u001b[39m\n\u001b[0m  ...",
      "",
      "Stacktrace:",
      "  [1] nll2(x::Vector{Float64})",
      "    @ Main ./In[102]:3",
      "  [2] finite_difference_gradient!(df::Vector{Float64}, f::typeof(nll2), x::Vector{Float64}, cache::FiniteDiff.GradientCache{Nothing, Nothing, Nothing, Vector{Float64}, Val{:central}(), Float64, Val{true}()}; relstep::Float64, absstep::Float64, dir::Bool)",
      "    @ FiniteDiff ~/.julia/packages/FiniteDiff/msXcU/src/gradients.jl:273",
      "  [3] finite_difference_gradient!(df::Vector{Float64}, f::Function, x::Vector{Float64}, cache::FiniteDiff.GradientCache{Nothing, Nothing, Nothing, Vector{Float64}, Val{:central}(), Float64, Val{true}()})",
      "    @ FiniteDiff ~/.julia/packages/FiniteDiff/msXcU/src/gradients.jl:224",
      "  [4] (::NLSolversBase.var\"#g!#15\"{typeof(nll2), FiniteDiff.GradientCache{Nothing, Nothing, Nothing, Vector{Float64}, Val{:central}(), Float64, Val{true}()}})(storage::Vector{Float64}, x::Vector{Float64})",
      "    @ NLSolversBase ~/.julia/packages/NLSolversBase/GRQ1x/src/objective_types/oncedifferentiable.jl:57",
      "  [5] (::NLSolversBase.var\"#fg!#16\"{typeof(nll2)})(storage::Vector{Float64}, x::Vector{Float64})",
      "    @ NLSolversBase ~/.julia/packages/NLSolversBase/GRQ1x/src/objective_types/oncedifferentiable.jl:61",
      "  [6] value_gradient!!(obj::OnceDifferentiable{Float64, Vector{Float64}, Vector{Float64}}, x::Vector{Float64})",
      "    @ NLSolversBase ~/.julia/packages/NLSolversBase/GRQ1x/src/interface.jl:82",
      "  [7] value_gradient!!(bw::Optim.BarrierWrapper{OnceDifferentiable{Float64, Vector{Float64}, Vector{Float64}}, Optim.BoxBarrier{Vector{Float64}, Vector{Float64}}, Float64, Float64, Vector{Float64}}, x::Vector{Float64})",
      "    @ Optim ~/.julia/packages/Optim/3K7JI/src/multivariate/solvers/constrained/fminbox.jl:81",
      "  [8] initial_state(method::LBFGS{Optim.InverseDiagonal, LineSearches.InitialStatic{Float64}, LineSearches.HagerZhang{Float64, Base.RefValue{Bool}}, Optim.var\"#64#65\"{Vector{Float64}, Vector{Float64}, Fminbox{LBFGS{Nothing, LineSearches.InitialStatic{Float64}, LineSearches.HagerZhang{Float64, Base.RefValue{Bool}}, Optim.var\"#17#19\"}, Float64, Optim.var\"#47#49\"}, Optim.BarrierWrapper{OnceDifferentiable{Float64, Vector{Float64}, Vector{Float64}}, Optim.BoxBarrier{Vector{Float64}, Vector{Float64}}, Float64, Float64, Vector{Float64}}}}, options::Optim.Options{Float64, Nothing}, d::Optim.BarrierWrapper{OnceDifferentiable{Float64, Vector{Float64}, Vector{Float64}}, Optim.BoxBarrier{Vector{Float64}, Vector{Float64}}, Float64, Float64, Vector{Float64}}, initial_x::Vector{Float64})",
      "    @ Optim ~/.julia/packages/Optim/3K7JI/src/multivariate/solvers/first_order/l_bfgs.jl:164",
      "  [9] optimize(df::OnceDifferentiable{Float64, Vector{Float64}, Vector{Float64}}, l::Vector{Float64}, u::Vector{Float64}, initial_x::Vector{Float64}, F::Fminbox{LBFGS{Nothing, LineSearches.InitialStatic{Float64}, LineSearches.HagerZhang{Float64, Base.RefValue{Bool}}, Optim.var\"#17#19\"}, Float64, Optim.var\"#47#49\"}, options::Optim.Options{Float64, Nothing})",
      "    @ Optim ~/.julia/packages/Optim/3K7JI/src/multivariate/solvers/constrained/fminbox.jl:322",
      " [10] #optimize#63",
      "    @ ~/.julia/packages/Optim/3K7JI/src/multivariate/solvers/constrained/fminbox.jl:269 [inlined]",
      " [11] optimize (repeats 3 times)",
      "    @ ~/.julia/packages/Optim/3K7JI/src/multivariate/solvers/constrained/fminbox.jl:265 [inlined]",
      " [12] top-level scope",
      "    @ In[104]:1",
      " [13] eval",
      "    @ ./boot.jl:360 [inlined]",
      " [14] include_string(mapexpr::typeof(REPL.softscope), mod::Module, code::String, filename::String)",
      "    @ Base ./loading.jl:1116"
     ]
    }
   ],
   "source": [
    "opt2_nll = Optim.optimize(nll2,lower2,upper2,initial_x2)"
   ]
  },
  {
   "cell_type": "code",
   "execution_count": 78,
   "metadata": {},
   "outputs": [
    {
     "data": {
      "text/plain": [
       "\"Fminbox with L-BFGS\""
      ]
     },
     "execution_count": 78,
     "metadata": {},
     "output_type": "execute_result"
    }
   ],
   "source": [
    "Optim.method(opt2_nll)"
   ]
  },
  {
   "cell_type": "code",
   "execution_count": 79,
   "metadata": {},
   "outputs": [
    {
     "data": {
      "text/plain": [
       "2-element Vector{Float64}:\n",
       "      0.08295096869212698\n",
       " 346298.85554603284"
      ]
     },
     "execution_count": 79,
     "metadata": {},
     "output_type": "execute_result"
    }
   ],
   "source": [
    "Optim.minimizer(opt2_nll)"
   ]
  },
  {
   "cell_type": "code",
   "execution_count": 80,
   "metadata": {
    "scrolled": true
   },
   "outputs": [
    {
     "data": {
      "text/plain": [
       "195.2765858229489"
      ]
     },
     "execution_count": 80,
     "metadata": {},
     "output_type": "execute_result"
    }
   ],
   "source": [
    "Optim.minimum(opt2_nll)"
   ]
  },
  {
   "cell_type": "code",
   "execution_count": 81,
   "metadata": {
    "scrolled": true
   },
   "outputs": [
    {
     "data": {
      "text/plain": [
       "retcode: Success\n",
       "Interpolation: 1st order linear\n",
       "t: 76-element Vector{Float64}:\n",
       "  0.0\n",
       "  1.0\n",
       "  2.0\n",
       "  3.0\n",
       "  4.0\n",
       "  5.0\n",
       "  6.0\n",
       "  7.0\n",
       "  8.0\n",
       "  9.0\n",
       " 10.0\n",
       " 11.0\n",
       " 12.0\n",
       "  ⋮\n",
       " 64.0\n",
       " 65.0\n",
       " 66.0\n",
       " 67.0\n",
       " 68.0\n",
       " 69.0\n",
       " 70.0\n",
       " 71.0\n",
       " 72.0\n",
       " 73.0\n",
       " 74.0\n",
       " 75.0\n",
       "u: 76-element Vector{Vector{Float64}}:\n",
       " [50000.0, 0.0]\n",
       " [53654.414156028375, 0.0]\n",
       " [57524.06892032846, 0.0]\n",
       " [61614.03612742487, 0.0]\n",
       " [65928.43986136626, 0.0]\n",
       " [70470.17208805087, 0.0]\n",
       " [75240.78049752579, 0.0]\n",
       " [80240.39231221702, 0.0]\n",
       " [85467.4903157361, 0.0]\n",
       " [90918.77689794703, 0.0]\n",
       " [96588.98520126614, 0.0]\n",
       " [102470.87446329322, 0.0]\n",
       " [108555.23135388068, 0.0]\n",
       " ⋮\n",
       " [336343.20654913643, 0.0]\n",
       " [337114.7263680585, 0.0]\n",
       " [337827.737591361, 0.0]\n",
       " [338486.5034605545, 0.0]\n",
       " [339095.07888970774, 0.0]\n",
       " [339657.3104654477, 0.0]\n",
       " [340176.6654986177, 0.0]\n",
       " [340656.0993049282, 0.0]\n",
       " [341098.5462543489, 0.0]\n",
       " [341506.7682936036, 0.0]\n",
       " [341883.35046736465, 0.0]\n",
       " [342230.70091825293, 0.0]"
      ]
     },
     "execution_count": 81,
     "metadata": {},
     "output_type": "execute_result"
    }
   ],
   "source": [
    "prob = remake(prob_ode00,u0=[5e04,0.],p=Optim.minimizer(opt2_nll))\n",
    "sol  = solve(prob,Tsit5(),saveat=δt)"
   ]
  },
  {
   "cell_type": "code",
   "execution_count": 83,
   "metadata": {
    "scrolled": false
   },
   "outputs": [
    {
     "data": {
      "image/svg+xml": [
       "<?xml version=\"1.0\" encoding=\"utf-8\"?>\n",
       "<svg xmlns=\"http://www.w3.org/2000/svg\" xmlns:xlink=\"http://www.w3.org/1999/xlink\" width=\"600\" height=\"400\" viewBox=\"0 0 2400 1600\">\n",
       "<defs>\n",
       "  <clipPath id=\"clip430\">\n",
       "    <rect x=\"0\" y=\"0\" width=\"2400\" height=\"1600\"/>\n",
       "  </clipPath>\n",
       "</defs>\n",
       "<path clip-path=\"url(#clip430)\" d=\"\n",
       "M0 1600 L2400 1600 L2400 0 L0 0  Z\n",
       "  \" fill=\"#ffffff\" fill-rule=\"evenodd\" fill-opacity=\"1\"/>\n",
       "<defs>\n",
       "  <clipPath id=\"clip431\">\n",
       "    <rect x=\"480\" y=\"0\" width=\"1681\" height=\"1600\"/>\n",
       "  </clipPath>\n",
       "</defs>\n",
       "<path clip-path=\"url(#clip430)\" d=\"\n",
       "M275.136 1423.18 L2352.76 1423.18 L2352.76 47.2441 L275.136 47.2441  Z\n",
       "  \" fill=\"#ffffff\" fill-rule=\"evenodd\" fill-opacity=\"1\"/>\n",
       "<defs>\n",
       "  <clipPath id=\"clip432\">\n",
       "    <rect x=\"275\" y=\"47\" width=\"2079\" height=\"1377\"/>\n",
       "  </clipPath>\n",
       "</defs>\n",
       "<polyline clip-path=\"url(#clip432)\" style=\"stroke:#000000; stroke-linecap:butt; stroke-linejoin:round; stroke-width:2; stroke-opacity:0.1; fill:none\" points=\"\n",
       "  275.136,1423.18 275.136,47.2441 \n",
       "  \"/>\n",
       "<polyline clip-path=\"url(#clip432)\" style=\"stroke:#000000; stroke-linecap:butt; stroke-linejoin:round; stroke-width:2; stroke-opacity:0.1; fill:none\" points=\"\n",
       "  967.676,1423.18 967.676,47.2441 \n",
       "  \"/>\n",
       "<polyline clip-path=\"url(#clip432)\" style=\"stroke:#000000; stroke-linecap:butt; stroke-linejoin:round; stroke-width:2; stroke-opacity:0.1; fill:none\" points=\"\n",
       "  1660.22,1423.18 1660.22,47.2441 \n",
       "  \"/>\n",
       "<polyline clip-path=\"url(#clip432)\" style=\"stroke:#000000; stroke-linecap:butt; stroke-linejoin:round; stroke-width:2; stroke-opacity:0.1; fill:none\" points=\"\n",
       "  2352.76,1423.18 2352.76,47.2441 \n",
       "  \"/>\n",
       "<polyline clip-path=\"url(#clip430)\" style=\"stroke:#000000; stroke-linecap:butt; stroke-linejoin:round; stroke-width:4; stroke-opacity:1; fill:none\" points=\"\n",
       "  275.136,1423.18 2352.76,1423.18 \n",
       "  \"/>\n",
       "<polyline clip-path=\"url(#clip430)\" style=\"stroke:#000000; stroke-linecap:butt; stroke-linejoin:round; stroke-width:4; stroke-opacity:1; fill:none\" points=\"\n",
       "  275.136,1423.18 275.136,1404.28 \n",
       "  \"/>\n",
       "<polyline clip-path=\"url(#clip430)\" style=\"stroke:#000000; stroke-linecap:butt; stroke-linejoin:round; stroke-width:4; stroke-opacity:1; fill:none\" points=\"\n",
       "  967.676,1423.18 967.676,1404.28 \n",
       "  \"/>\n",
       "<polyline clip-path=\"url(#clip430)\" style=\"stroke:#000000; stroke-linecap:butt; stroke-linejoin:round; stroke-width:4; stroke-opacity:1; fill:none\" points=\"\n",
       "  1660.22,1423.18 1660.22,1404.28 \n",
       "  \"/>\n",
       "<polyline clip-path=\"url(#clip430)\" style=\"stroke:#000000; stroke-linecap:butt; stroke-linejoin:round; stroke-width:4; stroke-opacity:1; fill:none\" points=\"\n",
       "  2352.76,1423.18 2352.76,1404.28 \n",
       "  \"/>\n",
       "<path clip-path=\"url(#clip430)\" d=\"M275.136 1452.37 Q271.525 1452.37 269.697 1455.94 Q267.891 1459.48 267.891 1466.61 Q267.891 1473.71 269.697 1477.28 Q271.525 1480.82 275.136 1480.82 Q278.771 1480.82 280.576 1477.28 Q282.405 1473.71 282.405 1466.61 Q282.405 1459.48 280.576 1455.94 Q278.771 1452.37 275.136 1452.37 M275.136 1448.67 Q280.947 1448.67 284.002 1453.27 Q287.081 1457.86 287.081 1466.61 Q287.081 1475.33 284.002 1479.94 Q280.947 1484.52 275.136 1484.52 Q269.326 1484.52 266.248 1479.94 Q263.192 1475.33 263.192 1466.61 Q263.192 1457.86 266.248 1453.27 Q269.326 1448.67 275.136 1448.67 Z\" fill=\"#000000\" fill-rule=\"evenodd\" fill-opacity=\"1\" /><path clip-path=\"url(#clip430)\" d=\"M946.947 1479.92 L963.267 1479.92 L963.267 1483.85 L941.322 1483.85 L941.322 1479.92 Q943.984 1477.16 948.568 1472.53 Q953.174 1467.88 954.355 1466.54 Q956.6 1464.01 957.48 1462.28 Q958.382 1460.52 958.382 1458.83 Q958.382 1456.07 956.438 1454.34 Q954.517 1452.6 951.415 1452.6 Q949.216 1452.6 946.762 1453.37 Q944.331 1454.13 941.554 1455.68 L941.554 1450.96 Q944.378 1449.82 946.831 1449.25 Q949.285 1448.67 951.322 1448.67 Q956.692 1448.67 959.887 1451.35 Q963.081 1454.04 963.081 1458.53 Q963.081 1460.66 962.271 1462.58 Q961.484 1464.48 959.378 1467.07 Q958.799 1467.74 955.697 1470.96 Q952.595 1474.15 946.947 1479.92 Z\" fill=\"#000000\" fill-rule=\"evenodd\" fill-opacity=\"1\" /><path clip-path=\"url(#clip430)\" d=\"M973.128 1449.29 L991.484 1449.29 L991.484 1453.23 L977.41 1453.23 L977.41 1461.7 Q978.428 1461.35 979.447 1461.19 Q980.466 1461 981.484 1461 Q987.271 1461 990.651 1464.18 Q994.03 1467.35 994.03 1472.76 Q994.03 1478.34 990.558 1481.44 Q987.086 1484.52 980.766 1484.52 Q978.591 1484.52 976.322 1484.15 Q974.077 1483.78 971.669 1483.04 L971.669 1478.34 Q973.753 1479.48 975.975 1480.03 Q978.197 1480.59 980.674 1480.59 Q984.678 1480.59 987.016 1478.48 Q989.354 1476.38 989.354 1472.76 Q989.354 1469.15 987.016 1467.05 Q984.678 1464.94 980.674 1464.94 Q978.799 1464.94 976.924 1465.36 Q975.072 1465.77 973.128 1466.65 L973.128 1449.29 Z\" fill=\"#000000\" fill-rule=\"evenodd\" fill-opacity=\"1\" /><path clip-path=\"url(#clip430)\" d=\"M1634.92 1449.29 L1653.27 1449.29 L1653.27 1453.23 L1639.2 1453.23 L1639.2 1461.7 Q1640.22 1461.35 1641.23 1461.19 Q1642.25 1461 1643.27 1461 Q1649.06 1461 1652.44 1464.18 Q1655.82 1467.35 1655.82 1472.76 Q1655.82 1478.34 1652.35 1481.44 Q1648.87 1484.52 1642.55 1484.52 Q1640.38 1484.52 1638.11 1484.15 Q1635.86 1483.78 1633.46 1483.04 L1633.46 1478.34 Q1635.54 1479.48 1637.76 1480.03 Q1639.98 1480.59 1642.46 1480.59 Q1646.47 1480.59 1648.8 1478.48 Q1651.14 1476.38 1651.14 1472.76 Q1651.14 1469.15 1648.8 1467.05 Q1646.47 1464.94 1642.46 1464.94 Q1640.59 1464.94 1638.71 1465.36 Q1636.86 1465.77 1634.92 1466.65 L1634.92 1449.29 Z\" fill=\"#000000\" fill-rule=\"evenodd\" fill-opacity=\"1\" /><path clip-path=\"url(#clip430)\" d=\"M1675.03 1452.37 Q1671.42 1452.37 1669.59 1455.94 Q1667.79 1459.48 1667.79 1466.61 Q1667.79 1473.71 1669.59 1477.28 Q1671.42 1480.82 1675.03 1480.82 Q1678.67 1480.82 1680.47 1477.28 Q1682.3 1473.71 1682.3 1466.61 Q1682.3 1459.48 1680.47 1455.94 Q1678.67 1452.37 1675.03 1452.37 M1675.03 1448.67 Q1680.84 1448.67 1683.9 1453.27 Q1686.98 1457.86 1686.98 1466.61 Q1686.98 1475.33 1683.9 1479.94 Q1680.84 1484.52 1675.03 1484.52 Q1669.22 1484.52 1666.14 1479.94 Q1663.09 1475.33 1663.09 1466.61 Q1663.09 1457.86 1666.14 1453.27 Q1669.22 1448.67 1675.03 1448.67 Z\" fill=\"#000000\" fill-rule=\"evenodd\" fill-opacity=\"1\" /><path clip-path=\"url(#clip430)\" d=\"M2326.61 1449.29 L2348.83 1449.29 L2348.83 1451.28 L2336.29 1483.85 L2331.4 1483.85 L2343.21 1453.23 L2326.61 1453.23 L2326.61 1449.29 Z\" fill=\"#000000\" fill-rule=\"evenodd\" fill-opacity=\"1\" /><path clip-path=\"url(#clip430)\" d=\"M2358 1449.29 L2376.36 1449.29 L2376.36 1453.23 L2362.28 1453.23 L2362.28 1461.7 Q2363.3 1461.35 2364.32 1461.19 Q2365.34 1461 2366.36 1461 Q2372.14 1461 2375.52 1464.18 Q2378.9 1467.35 2378.9 1472.76 Q2378.9 1478.34 2375.43 1481.44 Q2371.96 1484.52 2365.64 1484.52 Q2363.46 1484.52 2361.19 1484.15 Q2358.95 1483.78 2356.54 1483.04 L2356.54 1478.34 Q2358.62 1479.48 2360.85 1480.03 Q2363.07 1480.59 2365.55 1480.59 Q2369.55 1480.59 2371.89 1478.48 Q2374.23 1476.38 2374.23 1472.76 Q2374.23 1469.15 2371.89 1467.05 Q2369.55 1464.94 2365.55 1464.94 Q2363.67 1464.94 2361.8 1465.36 Q2359.94 1465.77 2358 1466.65 L2358 1449.29 Z\" fill=\"#000000\" fill-rule=\"evenodd\" fill-opacity=\"1\" /><path clip-path=\"url(#clip430)\" d=\"M1313.01 1522.27 L1313.01 1532.4 L1325.07 1532.4 L1325.07 1536.95 L1313.01 1536.95 L1313.01 1556.3 Q1313.01 1560.66 1314.18 1561.9 Q1315.39 1563.14 1319.05 1563.14 L1325.07 1563.14 L1325.07 1568.04 L1319.05 1568.04 Q1312.28 1568.04 1309.7 1565.53 Q1307.12 1562.98 1307.12 1556.3 L1307.12 1536.95 L1302.82 1536.95 L1302.82 1532.4 L1307.12 1532.4 L1307.12 1522.27 L1313.01 1522.27 Z\" fill=\"#000000\" fill-rule=\"evenodd\" fill-opacity=\"1\" /><polyline clip-path=\"url(#clip432)\" style=\"stroke:#000000; stroke-linecap:butt; stroke-linejoin:round; stroke-width:2; stroke-opacity:0.1; fill:none\" points=\"\n",
       "  275.136,1384.24 2352.76,1384.24 \n",
       "  \"/>\n",
       "<polyline clip-path=\"url(#clip432)\" style=\"stroke:#000000; stroke-linecap:butt; stroke-linejoin:round; stroke-width:2; stroke-opacity:0.1; fill:none\" points=\"\n",
       "  275.136,1096.91 2352.76,1096.91 \n",
       "  \"/>\n",
       "<polyline clip-path=\"url(#clip432)\" style=\"stroke:#000000; stroke-linecap:butt; stroke-linejoin:round; stroke-width:2; stroke-opacity:0.1; fill:none\" points=\"\n",
       "  275.136,809.573 2352.76,809.573 \n",
       "  \"/>\n",
       "<polyline clip-path=\"url(#clip432)\" style=\"stroke:#000000; stroke-linecap:butt; stroke-linejoin:round; stroke-width:2; stroke-opacity:0.1; fill:none\" points=\"\n",
       "  275.136,522.24 2352.76,522.24 \n",
       "  \"/>\n",
       "<polyline clip-path=\"url(#clip432)\" style=\"stroke:#000000; stroke-linecap:butt; stroke-linejoin:round; stroke-width:2; stroke-opacity:0.1; fill:none\" points=\"\n",
       "  275.136,234.907 2352.76,234.907 \n",
       "  \"/>\n",
       "<polyline clip-path=\"url(#clip430)\" style=\"stroke:#000000; stroke-linecap:butt; stroke-linejoin:round; stroke-width:4; stroke-opacity:1; fill:none\" points=\"\n",
       "  275.136,1423.18 275.136,47.2441 \n",
       "  \"/>\n",
       "<polyline clip-path=\"url(#clip430)\" style=\"stroke:#000000; stroke-linecap:butt; stroke-linejoin:round; stroke-width:4; stroke-opacity:1; fill:none\" points=\"\n",
       "  275.136,1384.24 294.034,1384.24 \n",
       "  \"/>\n",
       "<polyline clip-path=\"url(#clip430)\" style=\"stroke:#000000; stroke-linecap:butt; stroke-linejoin:round; stroke-width:4; stroke-opacity:1; fill:none\" points=\"\n",
       "  275.136,1096.91 294.034,1096.91 \n",
       "  \"/>\n",
       "<polyline clip-path=\"url(#clip430)\" style=\"stroke:#000000; stroke-linecap:butt; stroke-linejoin:round; stroke-width:4; stroke-opacity:1; fill:none\" points=\"\n",
       "  275.136,809.573 294.034,809.573 \n",
       "  \"/>\n",
       "<polyline clip-path=\"url(#clip430)\" style=\"stroke:#000000; stroke-linecap:butt; stroke-linejoin:round; stroke-width:4; stroke-opacity:1; fill:none\" points=\"\n",
       "  275.136,522.24 294.034,522.24 \n",
       "  \"/>\n",
       "<polyline clip-path=\"url(#clip430)\" style=\"stroke:#000000; stroke-linecap:butt; stroke-linejoin:round; stroke-width:4; stroke-opacity:1; fill:none\" points=\"\n",
       "  275.136,234.907 294.034,234.907 \n",
       "  \"/>\n",
       "<path clip-path=\"url(#clip430)\" d=\"M227.192 1370.04 Q223.581 1370.04 221.752 1373.6 Q219.947 1377.14 219.947 1384.27 Q219.947 1391.38 221.752 1394.94 Q223.581 1398.49 227.192 1398.49 Q230.826 1398.49 232.632 1394.94 Q234.46 1391.38 234.46 1384.27 Q234.46 1377.14 232.632 1373.6 Q230.826 1370.04 227.192 1370.04 M227.192 1366.33 Q233.002 1366.33 236.058 1370.94 Q239.136 1375.52 239.136 1384.27 Q239.136 1393 236.058 1397.61 Q233.002 1402.19 227.192 1402.19 Q221.382 1402.19 218.303 1397.61 Q215.248 1393 215.248 1384.27 Q215.248 1375.52 218.303 1370.94 Q221.382 1366.33 227.192 1366.33 Z\" fill=\"#000000\" fill-rule=\"evenodd\" fill-opacity=\"1\" /><path clip-path=\"url(#clip430)\" d=\"M54.5569 1116.7 L62.1958 1116.7 L62.1958 1090.33 L53.8856 1092 L53.8856 1087.74 L62.1495 1086.07 L66.8254 1086.07 L66.8254 1116.7 L74.4642 1116.7 L74.4642 1120.63 L54.5569 1120.63 L54.5569 1116.7 Z\" fill=\"#000000\" fill-rule=\"evenodd\" fill-opacity=\"1\" /><path clip-path=\"url(#clip430)\" d=\"M83.9086 1114.75 L88.7928 1114.75 L88.7928 1120.63 L83.9086 1120.63 L83.9086 1114.75 Z\" fill=\"#000000\" fill-rule=\"evenodd\" fill-opacity=\"1\" /><path clip-path=\"url(#clip430)\" d=\"M108.978 1089.15 Q105.367 1089.15 103.538 1092.72 Q101.733 1096.26 101.733 1103.39 Q101.733 1110.49 103.538 1114.06 Q105.367 1117.6 108.978 1117.6 Q112.612 1117.6 114.418 1114.06 Q116.246 1110.49 116.246 1103.39 Q116.246 1096.26 114.418 1092.72 Q112.612 1089.15 108.978 1089.15 M108.978 1085.45 Q114.788 1085.45 117.844 1090.05 Q120.922 1094.64 120.922 1103.39 Q120.922 1112.11 117.844 1116.72 Q114.788 1121.3 108.978 1121.3 Q103.168 1121.3 100.089 1116.72 Q97.0335 1112.11 97.0335 1103.39 Q97.0335 1094.64 100.089 1090.05 Q103.168 1085.45 108.978 1085.45 Z\" fill=\"#000000\" fill-rule=\"evenodd\" fill-opacity=\"1\" /><path clip-path=\"url(#clip430)\" d=\"M157.311 1095.17 L146.732 1105.8 L157.311 1116.37 L154.556 1119.17 L143.931 1108.55 L133.306 1119.17 L130.575 1116.37 L141.131 1105.8 L130.575 1095.17 L133.306 1092.37 L143.931 1102.99 L154.556 1092.37 L157.311 1095.17 Z\" fill=\"#000000\" fill-rule=\"evenodd\" fill-opacity=\"1\" /><path clip-path=\"url(#clip430)\" d=\"M169.672 1116.7 L177.311 1116.7 L177.311 1090.33 L169.001 1092 L169.001 1087.74 L177.265 1086.07 L181.94 1086.07 L181.94 1116.7 L189.579 1116.7 L189.579 1120.63 L169.672 1120.63 L169.672 1116.7 Z\" fill=\"#000000\" fill-rule=\"evenodd\" fill-opacity=\"1\" /><path clip-path=\"url(#clip430)\" d=\"M209.024 1089.15 Q205.413 1089.15 203.584 1092.72 Q201.778 1096.26 201.778 1103.39 Q201.778 1110.49 203.584 1114.06 Q205.413 1117.6 209.024 1117.6 Q212.658 1117.6 214.463 1114.06 Q216.292 1110.49 216.292 1103.39 Q216.292 1096.26 214.463 1092.72 Q212.658 1089.15 209.024 1089.15 M209.024 1085.45 Q214.834 1085.45 217.889 1090.05 Q220.968 1094.64 220.968 1103.39 Q220.968 1112.11 217.889 1116.72 Q214.834 1121.3 209.024 1121.3 Q203.214 1121.3 200.135 1116.72 Q197.079 1112.11 197.079 1103.39 Q197.079 1094.64 200.135 1090.05 Q203.214 1085.45 209.024 1085.45 Z\" fill=\"#000000\" fill-rule=\"evenodd\" fill-opacity=\"1\" /><path clip-path=\"url(#clip430)\" d=\"M222.153 1065.14 L237.068 1065.14 L237.068 1068.34 L225.632 1068.34 L225.632 1075.22 Q226.46 1074.94 227.287 1074.81 Q228.115 1074.66 228.943 1074.66 Q233.645 1074.66 236.39 1077.24 Q239.136 1079.81 239.136 1084.21 Q239.136 1088.75 236.315 1091.27 Q233.494 1093.77 228.36 1093.77 Q226.592 1093.77 224.748 1093.47 Q222.924 1093.17 220.968 1092.56 L220.968 1088.75 Q222.661 1089.67 224.466 1090.12 Q226.272 1090.57 228.284 1090.57 Q231.538 1090.57 233.438 1088.86 Q235.337 1087.15 235.337 1084.21 Q235.337 1081.28 233.438 1079.57 Q231.538 1077.86 228.284 1077.86 Q226.761 1077.86 225.237 1078.2 Q223.733 1078.53 222.153 1079.25 L222.153 1065.14 Z\" fill=\"#000000\" fill-rule=\"evenodd\" fill-opacity=\"1\" /><path clip-path=\"url(#clip430)\" d=\"M57.7745 829.365 L74.0939 829.365 L74.0939 833.3 L52.1495 833.3 L52.1495 829.365 Q54.8115 826.61 59.3949 821.981 Q64.0013 817.328 65.1819 815.985 Q67.4272 813.462 68.3068 811.726 Q69.2096 809.967 69.2096 808.277 Q69.2096 805.522 67.2652 803.786 Q65.3439 802.05 62.2421 802.05 Q60.043 802.05 57.5893 802.814 Q55.1588 803.578 52.381 805.129 L52.381 800.407 Q55.2051 799.273 57.6588 798.694 Q60.1124 798.115 62.1495 798.115 Q67.5198 798.115 70.7142 800.8 Q73.9087 803.485 73.9087 807.976 Q73.9087 810.106 73.0985 812.027 Q72.3115 813.925 70.205 816.518 Q69.6263 817.189 66.5245 820.407 Q63.4226 823.601 57.7745 829.365 Z\" fill=\"#000000\" fill-rule=\"evenodd\" fill-opacity=\"1\" /><path clip-path=\"url(#clip430)\" d=\"M83.9086 827.421 L88.7928 827.421 L88.7928 833.3 L83.9086 833.3 L83.9086 827.421 Z\" fill=\"#000000\" fill-rule=\"evenodd\" fill-opacity=\"1\" /><path clip-path=\"url(#clip430)\" d=\"M108.978 801.819 Q105.367 801.819 103.538 805.384 Q101.733 808.925 101.733 816.055 Q101.733 823.161 103.538 826.726 Q105.367 830.268 108.978 830.268 Q112.612 830.268 114.418 826.726 Q116.246 823.161 116.246 816.055 Q116.246 808.925 114.418 805.384 Q112.612 801.819 108.978 801.819 M108.978 798.115 Q114.788 798.115 117.844 802.722 Q120.922 807.305 120.922 816.055 Q120.922 824.782 117.844 829.388 Q114.788 833.971 108.978 833.971 Q103.168 833.971 100.089 829.388 Q97.0335 824.782 97.0335 816.055 Q97.0335 807.305 100.089 802.722 Q103.168 798.115 108.978 798.115 Z\" fill=\"#000000\" fill-rule=\"evenodd\" fill-opacity=\"1\" /><path clip-path=\"url(#clip430)\" d=\"M157.311 807.837 L146.732 818.462 L157.311 829.041 L154.556 831.842 L143.931 821.217 L133.306 831.842 L130.575 829.041 L141.131 818.462 L130.575 807.837 L133.306 805.036 L143.931 815.661 L154.556 805.036 L157.311 807.837 Z\" fill=\"#000000\" fill-rule=\"evenodd\" fill-opacity=\"1\" /><path clip-path=\"url(#clip430)\" d=\"M169.672 829.365 L177.311 829.365 L177.311 802.999 L169.001 804.666 L169.001 800.407 L177.265 798.74 L181.94 798.74 L181.94 829.365 L189.579 829.365 L189.579 833.3 L169.672 833.3 L169.672 829.365 Z\" fill=\"#000000\" fill-rule=\"evenodd\" fill-opacity=\"1\" /><path clip-path=\"url(#clip430)\" d=\"M209.024 801.819 Q205.413 801.819 203.584 805.384 Q201.778 808.925 201.778 816.055 Q201.778 823.161 203.584 826.726 Q205.413 830.268 209.024 830.268 Q212.658 830.268 214.463 826.726 Q216.292 823.161 216.292 816.055 Q216.292 808.925 214.463 805.384 Q212.658 801.819 209.024 801.819 M209.024 798.115 Q214.834 798.115 217.889 802.722 Q220.968 807.305 220.968 816.055 Q220.968 824.782 217.889 829.388 Q214.834 833.971 209.024 833.971 Q203.214 833.971 200.135 829.388 Q197.079 824.782 197.079 816.055 Q197.079 807.305 200.135 802.722 Q203.214 798.115 209.024 798.115 Z\" fill=\"#000000\" fill-rule=\"evenodd\" fill-opacity=\"1\" /><path clip-path=\"url(#clip430)\" d=\"M222.153 777.81 L237.068 777.81 L237.068 781.007 L225.632 781.007 L225.632 787.891 Q226.46 787.609 227.287 787.477 Q228.115 787.326 228.943 787.326 Q233.645 787.326 236.39 789.903 Q239.136 792.48 239.136 796.881 Q239.136 801.413 236.315 803.934 Q233.494 806.435 228.36 806.435 Q226.592 806.435 224.748 806.134 Q222.924 805.833 220.968 805.231 L220.968 801.413 Q222.661 802.335 224.466 802.786 Q226.272 803.238 228.284 803.238 Q231.538 803.238 233.438 801.526 Q235.337 799.815 235.337 796.881 Q235.337 793.947 233.438 792.235 Q231.538 790.524 228.284 790.524 Q226.761 790.524 225.237 790.862 Q223.733 791.201 222.153 791.916 L222.153 777.81 Z\" fill=\"#000000\" fill-rule=\"evenodd\" fill-opacity=\"1\" /><path clip-path=\"url(#clip430)\" d=\"M67.9133 527.333 Q71.2698 528.051 73.1448 530.319 Q75.0429 532.588 75.0429 535.921 Q75.0429 541.037 71.5244 543.838 Q68.0059 546.639 61.5245 546.639 Q59.3486 546.639 57.0338 546.199 Q54.7421 545.782 52.2884 544.926 L52.2884 540.412 Q54.2328 541.546 56.5477 542.125 Q58.8625 542.703 61.3856 542.703 Q65.7837 542.703 68.0754 540.967 Q70.3902 539.231 70.3902 535.921 Q70.3902 532.865 68.2374 531.153 Q66.1078 529.416 62.2884 529.416 L58.2606 529.416 L58.2606 525.574 L62.4735 525.574 Q65.9226 525.574 67.7513 524.208 Q69.58 522.819 69.58 520.227 Q69.58 517.565 67.6819 516.153 Q65.8069 514.717 62.2884 514.717 Q60.3671 514.717 58.168 515.134 Q55.969 515.551 53.3301 516.43 L53.3301 512.264 Q55.9921 511.523 58.3069 511.153 Q60.6449 510.782 62.705 510.782 Q68.0291 510.782 71.1309 513.213 Q74.2327 515.62 74.2327 519.741 Q74.2327 522.611 72.5892 524.602 Q70.9457 526.569 67.9133 527.333 Z\" fill=\"#000000\" fill-rule=\"evenodd\" fill-opacity=\"1\" /><path clip-path=\"url(#clip430)\" d=\"M83.9086 540.088 L88.7928 540.088 L88.7928 545.967 L83.9086 545.967 L83.9086 540.088 Z\" fill=\"#000000\" fill-rule=\"evenodd\" fill-opacity=\"1\" /><path clip-path=\"url(#clip430)\" d=\"M108.978 514.486 Q105.367 514.486 103.538 518.051 Q101.733 521.592 101.733 528.722 Q101.733 535.828 103.538 539.393 Q105.367 542.935 108.978 542.935 Q112.612 542.935 114.418 539.393 Q116.246 535.828 116.246 528.722 Q116.246 521.592 114.418 518.051 Q112.612 514.486 108.978 514.486 M108.978 510.782 Q114.788 510.782 117.844 515.389 Q120.922 519.972 120.922 528.722 Q120.922 537.449 117.844 542.055 Q114.788 546.639 108.978 546.639 Q103.168 546.639 100.089 542.055 Q97.0335 537.449 97.0335 528.722 Q97.0335 519.972 100.089 515.389 Q103.168 510.782 108.978 510.782 Z\" fill=\"#000000\" fill-rule=\"evenodd\" fill-opacity=\"1\" /><path clip-path=\"url(#clip430)\" d=\"M157.311 520.504 L146.732 531.129 L157.311 541.708 L154.556 544.509 L143.931 533.884 L133.306 544.509 L130.575 541.708 L141.131 531.129 L130.575 520.504 L133.306 517.704 L143.931 528.328 L154.556 517.704 L157.311 520.504 Z\" fill=\"#000000\" fill-rule=\"evenodd\" fill-opacity=\"1\" /><path clip-path=\"url(#clip430)\" d=\"M169.672 542.032 L177.311 542.032 L177.311 515.666 L169.001 517.333 L169.001 513.074 L177.265 511.407 L181.94 511.407 L181.94 542.032 L189.579 542.032 L189.579 545.967 L169.672 545.967 L169.672 542.032 Z\" fill=\"#000000\" fill-rule=\"evenodd\" fill-opacity=\"1\" /><path clip-path=\"url(#clip430)\" d=\"M209.024 514.486 Q205.413 514.486 203.584 518.051 Q201.778 521.592 201.778 528.722 Q201.778 535.828 203.584 539.393 Q205.413 542.935 209.024 542.935 Q212.658 542.935 214.463 539.393 Q216.292 535.828 216.292 528.722 Q216.292 521.592 214.463 518.051 Q212.658 514.486 209.024 514.486 M209.024 510.782 Q214.834 510.782 217.889 515.389 Q220.968 519.972 220.968 528.722 Q220.968 537.449 217.889 542.055 Q214.834 546.639 209.024 546.639 Q203.214 546.639 200.135 542.055 Q197.079 537.449 197.079 528.722 Q197.079 519.972 200.135 515.389 Q203.214 510.782 209.024 510.782 Z\" fill=\"#000000\" fill-rule=\"evenodd\" fill-opacity=\"1\" /><path clip-path=\"url(#clip430)\" d=\"M222.153 490.477 L237.068 490.477 L237.068 493.674 L225.632 493.674 L225.632 500.558 Q226.46 500.276 227.287 500.144 Q228.115 499.994 228.943 499.994 Q233.645 499.994 236.39 502.57 Q239.136 505.147 239.136 509.548 Q239.136 514.081 236.315 516.601 Q233.494 519.102 228.36 519.102 Q226.592 519.102 224.748 518.801 Q222.924 518.5 220.968 517.899 L220.968 514.081 Q222.661 515.002 224.466 515.454 Q226.272 515.905 228.284 515.905 Q231.538 515.905 233.438 514.193 Q235.337 512.482 235.337 509.548 Q235.337 506.614 233.438 504.902 Q231.538 503.191 228.284 503.191 Q226.761 503.191 225.237 503.529 Q223.733 503.868 222.153 504.583 L222.153 490.477 Z\" fill=\"#000000\" fill-rule=\"evenodd\" fill-opacity=\"1\" /><path clip-path=\"url(#clip430)\" d=\"M66.5939 228.148 L54.7884 246.597 L66.5939 246.597 L66.5939 228.148 M65.367 224.074 L71.2466 224.074 L71.2466 246.597 L76.1772 246.597 L76.1772 250.486 L71.2466 250.486 L71.2466 258.634 L66.5939 258.634 L66.5939 250.486 L50.9921 250.486 L50.9921 245.972 L65.367 224.074 Z\" fill=\"#000000\" fill-rule=\"evenodd\" fill-opacity=\"1\" /><path clip-path=\"url(#clip430)\" d=\"M83.9086 252.755 L88.7928 252.755 L88.7928 258.634 L83.9086 258.634 L83.9086 252.755 Z\" fill=\"#000000\" fill-rule=\"evenodd\" fill-opacity=\"1\" /><path clip-path=\"url(#clip430)\" d=\"M108.978 227.153 Q105.367 227.153 103.538 230.718 Q101.733 234.259 101.733 241.389 Q101.733 248.496 103.538 252.06 Q105.367 255.602 108.978 255.602 Q112.612 255.602 114.418 252.06 Q116.246 248.496 116.246 241.389 Q116.246 234.259 114.418 230.718 Q112.612 227.153 108.978 227.153 M108.978 223.449 Q114.788 223.449 117.844 228.056 Q120.922 232.639 120.922 241.389 Q120.922 250.116 117.844 254.722 Q114.788 259.306 108.978 259.306 Q103.168 259.306 100.089 254.722 Q97.0335 250.116 97.0335 241.389 Q97.0335 232.639 100.089 228.056 Q103.168 223.449 108.978 223.449 Z\" fill=\"#000000\" fill-rule=\"evenodd\" fill-opacity=\"1\" /><path clip-path=\"url(#clip430)\" d=\"M157.311 233.172 L146.732 243.796 L157.311 254.375 L154.556 257.176 L143.931 246.551 L133.306 257.176 L130.575 254.375 L141.131 243.796 L130.575 233.172 L133.306 230.371 L143.931 240.996 L154.556 230.371 L157.311 233.172 Z\" fill=\"#000000\" fill-rule=\"evenodd\" fill-opacity=\"1\" /><path clip-path=\"url(#clip430)\" d=\"M169.672 254.699 L177.311 254.699 L177.311 228.334 L169.001 230 L169.001 225.741 L177.265 224.074 L181.94 224.074 L181.94 254.699 L189.579 254.699 L189.579 258.634 L169.672 258.634 L169.672 254.699 Z\" fill=\"#000000\" fill-rule=\"evenodd\" fill-opacity=\"1\" /><path clip-path=\"url(#clip430)\" d=\"M209.024 227.153 Q205.413 227.153 203.584 230.718 Q201.778 234.259 201.778 241.389 Q201.778 248.496 203.584 252.06 Q205.413 255.602 209.024 255.602 Q212.658 255.602 214.463 252.06 Q216.292 248.496 216.292 241.389 Q216.292 234.259 214.463 230.718 Q212.658 227.153 209.024 227.153 M209.024 223.449 Q214.834 223.449 217.889 228.056 Q220.968 232.639 220.968 241.389 Q220.968 250.116 217.889 254.722 Q214.834 259.306 209.024 259.306 Q203.214 259.306 200.135 254.722 Q197.079 250.116 197.079 241.389 Q197.079 232.639 200.135 228.056 Q203.214 223.449 209.024 223.449 Z\" fill=\"#000000\" fill-rule=\"evenodd\" fill-opacity=\"1\" /><path clip-path=\"url(#clip430)\" d=\"M222.153 203.144 L237.068 203.144 L237.068 206.341 L225.632 206.341 L225.632 213.225 Q226.46 212.943 227.287 212.811 Q228.115 212.661 228.943 212.661 Q233.645 212.661 236.39 215.237 Q239.136 217.814 239.136 222.215 Q239.136 226.748 236.315 229.268 Q233.494 231.769 228.36 231.769 Q226.592 231.769 224.748 231.468 Q222.924 231.168 220.968 230.566 L220.968 226.748 Q222.661 227.669 224.466 228.121 Q226.272 228.572 228.284 228.572 Q231.538 228.572 233.438 226.861 Q235.337 225.149 235.337 222.215 Q235.337 219.281 233.438 217.57 Q231.538 215.858 228.284 215.858 Q226.761 215.858 225.237 216.197 Q223.733 216.535 222.153 217.25 L222.153 203.144 Z\" fill=\"#000000\" fill-rule=\"evenodd\" fill-opacity=\"1\" /><polyline clip-path=\"url(#clip432)\" style=\"stroke:#009af9; stroke-linecap:butt; stroke-linejoin:round; stroke-width:16; stroke-opacity:1; fill:none\" points=\"\n",
       "  275.136,1240.57 302.838,1230.07 330.54,1218.95 358.241,1207.2 385.943,1194.8 413.644,1181.75 441.346,1168.05 469.048,1153.68 496.749,1138.66 524.451,1123 \n",
       "  552.152,1106.71 579.854,1089.81 607.555,1072.32 635.257,1054.29 662.959,1035.75 690.66,1016.74 718.362,997.316 746.063,977.53 773.765,957.443 801.467,937.116 \n",
       "  829.168,916.618 856.87,896.012 884.571,875.376 912.273,854.783 939.975,834.304 967.676,814.006 995.378,793.952 1023.08,774.205 1050.78,754.82 1078.48,735.852 \n",
       "  1106.18,717.351 1133.89,699.364 1161.59,681.935 1189.29,665.095 1216.99,648.865 1244.69,633.266 1272.39,618.31 1300.1,604.008 1327.8,590.365 1355.5,577.38 \n",
       "  1383.2,565.048 1410.9,553.361 1438.6,542.284 1466.3,531.768 1494.01,521.815 1521.71,512.422 1549.41,503.585 1577.11,495.297 1604.81,487.548 1632.51,480.324 \n",
       "  1660.22,473.609 1687.92,467.383 1715.62,461.624 1743.32,456.306 1771.02,451.4 1798.72,446.874 1826.43,442.695 1854.13,438.823 1881.83,435.217 1909.53,431.835 \n",
       "  1937.23,428.628 1964.93,425.604 1992.64,422.804 2020.34,420.211 2048.04,417.814 2075.74,415.597 2103.44,413.548 2131.14,411.655 2158.84,409.907 2186.55,408.291 \n",
       "  2214.25,406.799 2241.95,405.421 2269.65,404.15 2297.35,402.977 2325.05,401.895 2352.76,400.897 \n",
       "  \"/>\n",
       "<polyline clip-path=\"url(#clip432)\" style=\"stroke:#e26f46; stroke-linecap:butt; stroke-linejoin:round; stroke-width:16; stroke-opacity:1; fill:none\" points=\"\n",
       "  275.136,1384.24 302.838,1384.24 330.54,1384.24 358.241,1384.24 385.943,1384.24 413.644,1384.24 441.346,1384.24 469.048,1384.24 496.749,1384.24 524.451,1384.24 \n",
       "  552.152,1384.24 579.854,1384.24 607.555,1384.24 635.257,1384.24 662.959,1384.24 690.66,1384.24 718.362,1384.24 746.063,1384.24 773.765,1384.24 801.467,1384.24 \n",
       "  829.168,1384.24 856.87,1384.24 884.571,1384.24 912.273,1384.24 939.975,1384.24 967.676,1384.24 995.378,1384.24 1023.08,1384.24 1050.78,1384.24 1078.48,1384.24 \n",
       "  1106.18,1384.24 1133.89,1384.24 1161.59,1384.24 1189.29,1384.24 1216.99,1384.24 1244.69,1384.24 1272.39,1384.24 1300.1,1384.24 1327.8,1384.24 1355.5,1384.24 \n",
       "  1383.2,1384.24 1410.9,1384.24 1438.6,1384.24 1466.3,1384.24 1494.01,1384.24 1521.71,1384.24 1549.41,1384.24 1577.11,1384.24 1604.81,1384.24 1632.51,1384.24 \n",
       "  1660.22,1384.24 1687.92,1384.24 1715.62,1384.24 1743.32,1384.24 1771.02,1384.24 1798.72,1384.24 1826.43,1384.24 1854.13,1384.24 1881.83,1384.24 1909.53,1384.24 \n",
       "  1937.23,1384.24 1964.93,1384.24 1992.64,1384.24 2020.34,1384.24 2048.04,1384.24 2075.74,1384.24 2103.44,1384.24 2131.14,1384.24 2158.84,1384.24 2186.55,1384.24 \n",
       "  2214.25,1384.24 2241.95,1384.24 2269.65,1384.24 2297.35,1384.24 2325.05,1384.24 2352.76,1384.24 \n",
       "  \"/>\n",
       "<polyline clip-path=\"url(#clip432)\" style=\"stroke:#3da44d; stroke-linecap:butt; stroke-linejoin:round; stroke-width:4; stroke-opacity:1; fill:none\" points=\"\n",
       "  358.241,1156.29 441.346,1124.68 496.749,1044.23 939.975,962.817 1023.08,909.181 1106.18,794.248 1604.81,300.993 1715.62,215.751 2269.65,254.062 \n",
       "  \"/>\n",
       "<polyline clip-path=\"url(#clip432)\" style=\"stroke:#000000; stroke-linecap:butt; stroke-linejoin:round; stroke-width:4; stroke-opacity:1; fill:none\" points=\"\n",
       "  358.241,1173.61 358.241,1138.97 \n",
       "  \"/>\n",
       "<polyline clip-path=\"url(#clip432)\" style=\"stroke:#000000; stroke-linecap:butt; stroke-linejoin:round; stroke-width:4; stroke-opacity:1; fill:none\" points=\"\n",
       "  441.346,1150.43 441.346,1098.93 \n",
       "  \"/>\n",
       "<polyline clip-path=\"url(#clip432)\" style=\"stroke:#000000; stroke-linecap:butt; stroke-linejoin:round; stroke-width:4; stroke-opacity:1; fill:none\" points=\"\n",
       "  496.749,1052.52 496.749,1035.93 \n",
       "  \"/>\n",
       "<polyline clip-path=\"url(#clip432)\" style=\"stroke:#000000; stroke-linecap:butt; stroke-linejoin:round; stroke-width:4; stroke-opacity:1; fill:none\" points=\"\n",
       "  939.975,1009 939.975,916.634 \n",
       "  \"/>\n",
       "<polyline clip-path=\"url(#clip432)\" style=\"stroke:#000000; stroke-linecap:butt; stroke-linejoin:round; stroke-width:4; stroke-opacity:1; fill:none\" points=\"\n",
       "  1023.08,946.127 1023.08,872.235 \n",
       "  \"/>\n",
       "<polyline clip-path=\"url(#clip432)\" style=\"stroke:#000000; stroke-linecap:butt; stroke-linejoin:round; stroke-width:4; stroke-opacity:1; fill:none\" points=\"\n",
       "  1106.18,811.804 1106.18,776.692 \n",
       "  \"/>\n",
       "<polyline clip-path=\"url(#clip432)\" style=\"stroke:#000000; stroke-linecap:butt; stroke-linejoin:round; stroke-width:4; stroke-opacity:1; fill:none\" points=\"\n",
       "  1604.81,347.561 1604.81,254.425 \n",
       "  \"/>\n",
       "<polyline clip-path=\"url(#clip432)\" style=\"stroke:#000000; stroke-linecap:butt; stroke-linejoin:round; stroke-width:4; stroke-opacity:1; fill:none\" points=\"\n",
       "  1715.62,345.317 1715.62,86.1857 \n",
       "  \"/>\n",
       "<polyline clip-path=\"url(#clip432)\" style=\"stroke:#000000; stroke-linecap:butt; stroke-linejoin:round; stroke-width:4; stroke-opacity:1; fill:none\" points=\"\n",
       "  2269.65,323.129 2269.65,184.996 \n",
       "  \"/>\n",
       "<line clip-path=\"url(#clip432)\" x1=\"374.241\" y1=\"1173.61\" x2=\"342.241\" y2=\"1173.61\" style=\"stroke:#000000; stroke-width:3.2; stroke-opacity:1\"/>\n",
       "<line clip-path=\"url(#clip432)\" x1=\"374.241\" y1=\"1138.97\" x2=\"342.241\" y2=\"1138.97\" style=\"stroke:#000000; stroke-width:3.2; stroke-opacity:1\"/>\n",
       "<line clip-path=\"url(#clip432)\" x1=\"457.346\" y1=\"1150.43\" x2=\"425.346\" y2=\"1150.43\" style=\"stroke:#000000; stroke-width:3.2; stroke-opacity:1\"/>\n",
       "<line clip-path=\"url(#clip432)\" x1=\"457.346\" y1=\"1098.93\" x2=\"425.346\" y2=\"1098.93\" style=\"stroke:#000000; stroke-width:3.2; stroke-opacity:1\"/>\n",
       "<line clip-path=\"url(#clip432)\" x1=\"512.749\" y1=\"1052.52\" x2=\"480.749\" y2=\"1052.52\" style=\"stroke:#000000; stroke-width:3.2; stroke-opacity:1\"/>\n",
       "<line clip-path=\"url(#clip432)\" x1=\"512.749\" y1=\"1035.93\" x2=\"480.749\" y2=\"1035.93\" style=\"stroke:#000000; stroke-width:3.2; stroke-opacity:1\"/>\n",
       "<line clip-path=\"url(#clip432)\" x1=\"955.975\" y1=\"1009\" x2=\"923.975\" y2=\"1009\" style=\"stroke:#000000; stroke-width:3.2; stroke-opacity:1\"/>\n",
       "<line clip-path=\"url(#clip432)\" x1=\"955.975\" y1=\"916.634\" x2=\"923.975\" y2=\"916.634\" style=\"stroke:#000000; stroke-width:3.2; stroke-opacity:1\"/>\n",
       "<line clip-path=\"url(#clip432)\" x1=\"1039.08\" y1=\"946.127\" x2=\"1007.08\" y2=\"946.127\" style=\"stroke:#000000; stroke-width:3.2; stroke-opacity:1\"/>\n",
       "<line clip-path=\"url(#clip432)\" x1=\"1039.08\" y1=\"872.235\" x2=\"1007.08\" y2=\"872.235\" style=\"stroke:#000000; stroke-width:3.2; stroke-opacity:1\"/>\n",
       "<line clip-path=\"url(#clip432)\" x1=\"1122.18\" y1=\"811.804\" x2=\"1090.18\" y2=\"811.804\" style=\"stroke:#000000; stroke-width:3.2; stroke-opacity:1\"/>\n",
       "<line clip-path=\"url(#clip432)\" x1=\"1122.18\" y1=\"776.692\" x2=\"1090.18\" y2=\"776.692\" style=\"stroke:#000000; stroke-width:3.2; stroke-opacity:1\"/>\n",
       "<line clip-path=\"url(#clip432)\" x1=\"1620.81\" y1=\"347.561\" x2=\"1588.81\" y2=\"347.561\" style=\"stroke:#000000; stroke-width:3.2; stroke-opacity:1\"/>\n",
       "<line clip-path=\"url(#clip432)\" x1=\"1620.81\" y1=\"254.425\" x2=\"1588.81\" y2=\"254.425\" style=\"stroke:#000000; stroke-width:3.2; stroke-opacity:1\"/>\n",
       "<line clip-path=\"url(#clip432)\" x1=\"1731.62\" y1=\"345.317\" x2=\"1699.62\" y2=\"345.317\" style=\"stroke:#000000; stroke-width:3.2; stroke-opacity:1\"/>\n",
       "<line clip-path=\"url(#clip432)\" x1=\"1731.62\" y1=\"86.1857\" x2=\"1699.62\" y2=\"86.1857\" style=\"stroke:#000000; stroke-width:3.2; stroke-opacity:1\"/>\n",
       "<line clip-path=\"url(#clip432)\" x1=\"2285.65\" y1=\"323.129\" x2=\"2253.65\" y2=\"323.129\" style=\"stroke:#000000; stroke-width:3.2; stroke-opacity:1\"/>\n",
       "<line clip-path=\"url(#clip432)\" x1=\"2285.65\" y1=\"184.996\" x2=\"2253.65\" y2=\"184.996\" style=\"stroke:#000000; stroke-width:3.2; stroke-opacity:1\"/>\n",
       "</svg>\n"
      ]
     },
     "execution_count": 83,
     "metadata": {},
     "output_type": "execute_result"
    }
   ],
   "source": [
    "plot(sol,leg=false,lw=4)\n",
    "plot!(ided,eded,yerror=σ,leg=false)"
   ]
  },
  {
   "cell_type": "code",
   "execution_count": 105,
   "metadata": {},
   "outputs": [
    {
     "ename": "LoadError",
     "evalue": "MethodError: no method matching remake(::ODEProblem{Float64, Tuple{Float64, Float64}, false, Vector{Float64}, ODEFunction{false, typeof(ode00), LinearAlgebra.UniformScaling{Bool}, Nothing, Nothing, Nothing, Nothing, Nothing, Nothing, Nothing, Nothing, Nothing, Nothing, Nothing, Nothing, typeof(SciMLBase.DEFAULT_OBSERVED), Nothing}, Base.Iterators.Pairs{Union{}, Union{}, Tuple{}, NamedTuple{(), Tuple{}}}, SciMLBase.StandardODEProblem}, ::Float64; p=[0.06, 380000.0])\n\u001b[0mClosest candidates are:\n\u001b[0m  remake(\u001b[91m::OrdinaryDiffEq.OrdinaryDiffEqImplicitAlgorithm{CS, AD, FDT}\u001b[39m, ::Any...) where {CS, AD, FDT} at /home/nikos/.julia/packages/OrdinaryDiffEq/PIjOZ/src/algorithms.jl:37\u001b[91m got unsupported keyword argument \"p\"\u001b[39m\n\u001b[0m  remake(\u001b[91m::OrdinaryDiffEq.OrdinaryDiffEqAdaptiveImplicitAlgorithm{CS, AD, FDT}\u001b[39m, ::Any...) where {CS, AD, FDT} at /home/nikos/.julia/packages/OrdinaryDiffEq/PIjOZ/src/algorithms.jl:32\u001b[91m got unsupported keyword argument \"p\"\u001b[39m\n\u001b[0m  remake(\u001b[91m::OrdinaryDiffEqAlgorithm\u001b[39m, ::Any...) at /home/nikos/.julia/packages/OrdinaryDiffEq/PIjOZ/src/algorithms.jl:27\u001b[91m got unsupported keyword argument \"p\"\u001b[39m\n\u001b[0m  ...",
     "output_type": "error",
     "traceback": [
      "MethodError: no method matching remake(::ODEProblem{Float64, Tuple{Float64, Float64}, false, Vector{Float64}, ODEFunction{false, typeof(ode00), LinearAlgebra.UniformScaling{Bool}, Nothing, Nothing, Nothing, Nothing, Nothing, Nothing, Nothing, Nothing, Nothing, Nothing, Nothing, Nothing, typeof(SciMLBase.DEFAULT_OBSERVED), Nothing}, Base.Iterators.Pairs{Union{}, Union{}, Tuple{}, NamedTuple{(), Tuple{}}}, SciMLBase.StandardODEProblem}, ::Float64; p=[0.06, 380000.0])\n\u001b[0mClosest candidates are:\n\u001b[0m  remake(\u001b[91m::OrdinaryDiffEq.OrdinaryDiffEqImplicitAlgorithm{CS, AD, FDT}\u001b[39m, ::Any...) where {CS, AD, FDT} at /home/nikos/.julia/packages/OrdinaryDiffEq/PIjOZ/src/algorithms.jl:37\u001b[91m got unsupported keyword argument \"p\"\u001b[39m\n\u001b[0m  remake(\u001b[91m::OrdinaryDiffEq.OrdinaryDiffEqAdaptiveImplicitAlgorithm{CS, AD, FDT}\u001b[39m, ::Any...) where {CS, AD, FDT} at /home/nikos/.julia/packages/OrdinaryDiffEq/PIjOZ/src/algorithms.jl:32\u001b[91m got unsupported keyword argument \"p\"\u001b[39m\n\u001b[0m  remake(\u001b[91m::OrdinaryDiffEqAlgorithm\u001b[39m, ::Any...) at /home/nikos/.julia/packages/OrdinaryDiffEq/PIjOZ/src/algorithms.jl:27\u001b[91m got unsupported keyword argument \"p\"\u001b[39m\n\u001b[0m  ...",
      "",
      "Stacktrace:",
      " [1] nll2(x::Vector{Float64})",
      "   @ Main ./In[102]:3",
      " [2] top-level scope",
      "   @ In[105]:1",
      " [3] eval",
      "   @ ./boot.jl:360 [inlined]",
      " [4] include_string(mapexpr::typeof(REPL.softscope), mod::Module, code::String, filename::String)",
      "   @ Base ./loading.jl:1116"
     ]
    }
   ],
   "source": [
    "nll2(initial_x2)"
   ]
  },
  {
   "cell_type": "code",
   "execution_count": 90,
   "metadata": {},
   "outputs": [
    {
     "data": {
      "text/plain": [
       "retcode: Success\n",
       "Interpolation: 1st order linear\n",
       "t: 76-element Vector{Float64}:\n",
       "  0.0\n",
       "  1.0\n",
       "  2.0\n",
       "  3.0\n",
       "  4.0\n",
       "  5.0\n",
       "  6.0\n",
       "  7.0\n",
       "  8.0\n",
       "  9.0\n",
       " 10.0\n",
       " 11.0\n",
       " 12.0\n",
       "  ⋮\n",
       " 64.0\n",
       " 65.0\n",
       " 66.0\n",
       " 67.0\n",
       " 68.0\n",
       " 69.0\n",
       " 70.0\n",
       " 71.0\n",
       " 72.0\n",
       " 73.0\n",
       " 74.0\n",
       " 75.0\n",
       "u: 76-element Vector{Float64}:\n",
       "  50000.0\n",
       "  52228.826167184285\n",
       "  54541.52314736449\n",
       "  56939.855718719446\n",
       "  59425.51152143917\n",
       "  62000.07265979561\n",
       "  64664.994265534886\n",
       "  67421.60446343075\n",
       "  70271.0985679546\n",
       "  73214.49594505684\n",
       "  76252.68638473371\n",
       "  79386.35081152333\n",
       "  82615.94380395983\n",
       "      ⋮\n",
       " 311203.24722333543\n",
       " 314609.9124118287\n",
       " 317920.361644826\n",
       " 321134.56492507877\n",
       " 324252.7376595108\n",
       " 327275.34065921855\n",
       " 330203.0801394708\n",
       " 333036.9077197089\n",
       " 335778.0204235469\n",
       " 338427.8598131038\n",
       " 340987.74753070355\n",
       " 343458.98774487624"
      ]
     },
     "execution_count": 90,
     "metadata": {},
     "output_type": "execute_result"
    }
   ],
   "source": [
    "sol_ode00"
   ]
  },
  {
   "cell_type": "code",
   "execution_count": null,
   "metadata": {},
   "outputs": [],
   "source": []
  }
 ],
 "metadata": {
  "@webio": {
   "lastCommId": null,
   "lastKernelId": null
  },
  "kernelspec": {
   "display_name": "Julia 1.6.2",
   "language": "julia",
   "name": "julia-1.6"
  },
  "language_info": {
   "file_extension": ".jl",
   "mimetype": "application/julia",
   "name": "julia",
   "version": "1.6.2"
  }
 },
 "nbformat": 4,
 "nbformat_minor": 2
}
