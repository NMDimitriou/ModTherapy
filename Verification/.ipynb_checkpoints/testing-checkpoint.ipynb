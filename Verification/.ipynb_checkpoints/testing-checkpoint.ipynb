{
 "cells": [
  {
   "cell_type": "code",
   "execution_count": 7,
   "metadata": {
    "scrolled": false
   },
   "outputs": [],
   "source": [
    "using Printf, CSV, DataFrames, Glob, Plots, LaTeXStrings, Measures\n",
    "\n",
    "edat = \"calibration_C33A_control_R1_werr.txt\";\n",
    "rdat = \"C33A_control_R1_werr.txt\";\n",
    "\n",
    "path    = @sprintf(\"../Data/%s\",edat)\n",
    "pathref = @sprintf(\"../Data/%s\",rdat) \n",
    "\n",
    "ed = CSV.read(path   , header=0, DataFrame);\n",
    "er = CSV.read(pathref, header=0, DataFrame);\n",
    "\n",
    "id_ed=Array(ed[:,1]);\n",
    "id_er=Array(er[:,1]);\n",
    "\n",
    "com=in.(id_er,[id_ed]);\n",
    "\n",
    "#id_er[com.==0,1]\n",
    "#id_er[com.==1,1]\n",
    "\n",
    "#broadcast(x -> in(x, id_ed), id_er)\n",
    "#sdpath=\"output_rep_calibration_C33A_control_R1_werr_vs_00/output_rep_\";\n",
    "sdir = \"output_rep_calibration_C33A_control_R1_werr_vs_00\"\n",
    "sfiles = glob(\"*.txt\",sdir)\n",
    "\n",
    "sd = DataFrame.( CSV.File.( sfiles ) );\n",
    "\n",
    "for i in 1:length(sd)\n",
    "    sd[i][!, :replicate] .= i\n",
    "end\n",
    "\n",
    "sdf = reduce(vcat, sd);\n",
    "\n"
   ]
  },
  {
   "cell_type": "code",
   "execution_count": 8,
   "metadata": {
    "scrolled": false
   },
   "outputs": [],
   "source": [
    "default(legend=false, fontfamily=\"Computer Modern\", size=(800,600),\n",
    "        guidefont = 30, tickfont=20, linewidth=1, markersize=5, grid=false,\n",
    "        dpi=300) \n",
    "\n",
    "plot(er[com.==1,1],er[com.==1,2],grid=false,yerror=er[com.==1,3],st=:scatter,m=:o,color=:black)\n",
    "plot!(er[com.==0,1],er[com.==0,2],grid=false,yerror=er[com.==1,3],st=:scatter,m=:o,color=:yellow)\n",
    "for f in 1:5000\n",
    "    com = in.(sdf[:,3],[f]);\n",
    "    plot!(sdf[com,1],sdf[com,end-1],alpha=0.01,color=:blue)\n",
    "end\n",
    "xlabel!(\"time (hours)\")\n",
    "ylabel!(\"cell count\")\n",
    "\n",
    "fname=@sprintf(\"plot_%s.png\",sdir);\n",
    "png(fname)"
   ]
  },
  {
   "cell_type": "code",
   "execution_count": null,
   "metadata": {},
   "outputs": [],
   "source": []
  },
  {
   "cell_type": "code",
   "execution_count": null,
   "metadata": {},
   "outputs": [],
   "source": [
    "Pkg.add(\"Measures\")"
   ]
  },
  {
   "cell_type": "code",
   "execution_count": 7,
   "metadata": {},
   "outputs": [],
   "source": [
    "using Printf, CSV, DataFrames, Glob, Plots, LaTeXStrings, Measures\n",
    "default(legend=false, fontfamily=\"Computer Modern\", size=(800,600),\n",
    "    guidefont = 30, tickfont=20, linewidth=1, markersize=5, grid=false,\n",
    "    dpi=300)"
   ]
  },
  {
   "cell_type": "code",
   "execution_count": 8,
   "metadata": {
    "scrolled": true
   },
   "outputs": [],
   "source": [
    "edat = \"calibration_C33A_control\"\n",
    "rdat = \"C33A_control_R1_werr\"\n",
    "\n",
    "apath = @sprintf(\"../Data/%s*.txt\",edat)\n",
    "path  = glob(apath)\n",
    "ed    = DataFrame.( CSV.File.( path; header=0) );\n",
    "for i in 1:length(ed)\n",
    "    ed[i][!, :replicate] .= i\n",
    "end\n",
    "edf = reduce(vcat, ed);"
   ]
  },
  {
   "cell_type": "code",
   "execution_count": 9,
   "metadata": {},
   "outputs": [],
   "source": [
    "pathref = @sprintf(\"../Data/%s.txt\",rdat)\n",
    "er = CSV.read(pathref, header=0, DataFrame);"
   ]
  },
  {
   "cell_type": "code",
   "execution_count": 10,
   "metadata": {},
   "outputs": [],
   "source": [
    "id_ed=Array(edf[:,1])\n",
    "id_er=Array(er[:,1])\n",
    "\n",
    "com=in.(id_ed,[id_er]);"
   ]
  },
  {
   "cell_type": "code",
   "execution_count": null,
   "metadata": {},
   "outputs": [],
   "source": []
  },
  {
   "cell_type": "code",
   "execution_count": 12,
   "metadata": {},
   "outputs": [],
   "source": [
    "for t in 1:3\n",
    "    comtot = in.(dat[:,4],[t])\n",
    "    plot!(dat[comtot,1],dat[comtot,2],yerror=dat[comtot,3],st=:scatter,m=:o,color=:black)\n",
    "    #plot!(dat[comtot==0,1],dat[comtot==0,2],yerror=dat[comtot==0,3],st=:scatter,m=:o,color=:yellow)\n",
    "end"
   ]
  },
  {
   "cell_type": "code",
   "execution_count": null,
   "metadata": {},
   "outputs": [],
   "source": []
  },
  {
   "cell_type": "code",
   "execution_count": null,
   "metadata": {},
   "outputs": [],
   "source": []
  }
 ],
 "metadata": {
  "@webio": {
   "lastCommId": null,
   "lastKernelId": null
  },
  "kernelspec": {
   "display_name": "Julia 1.6.2",
   "language": "julia",
   "name": "julia-1.6"
  },
  "language_info": {
   "file_extension": ".jl",
   "mimetype": "application/julia",
   "name": "julia",
   "version": "1.6.2"
  }
 },
 "nbformat": 4,
 "nbformat_minor": 2
}
